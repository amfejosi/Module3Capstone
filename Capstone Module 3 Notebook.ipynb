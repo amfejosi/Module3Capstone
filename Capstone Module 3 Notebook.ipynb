{
 "cells": [
  {
   "cell_type": "markdown",
   "id": "e19965ca",
   "metadata": {},
   "source": [
    "Capstone Module 3"
   ]
  },
  {
   "cell_type": "code",
   "execution_count": null,
   "id": "f054fb28",
   "metadata": {},
   "outputs": [],
   "source": []
  }
 ],
 "metadata": {
  "language_info": {
   "name": "python"
  }
 },
 "nbformat": 4,
 "nbformat_minor": 5
}
